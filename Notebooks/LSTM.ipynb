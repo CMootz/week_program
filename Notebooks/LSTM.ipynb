{
 "cells": [
  {
   "cell_type": "code",
   "execution_count": 1,
   "metadata": {},
   "outputs": [],
   "source": [
    "import torch\n",
    "import numpy as np\n",
    "import torch\n",
    "import torch.nn as nn\n",
    "import torch.nn.functional as F\n",
    "import sklearn\n",
    "import time\n",
    "import matplotlib.pyplot as plt\n",
    "import matplotlib\n",
    "\n",
    "import preprocessing\n",
    "import train\n",
    "import models"
   ]
  },
  {
   "cell_type": "code",
   "execution_count": 2,
   "metadata": {},
   "outputs": [],
   "source": [
    "%load_ext autoreload\n",
    "%autoreload 2"
   ]
  },
  {
   "cell_type": "code",
   "execution_count": null,
   "metadata": {},
   "outputs": [],
   "source": []
  },
  {
   "cell_type": "code",
   "execution_count": 4,
   "metadata": {},
   "outputs": [],
   "source": [
    "my_lstm = models.Lstm(18, 64, 1,'../data/M_data_2019_04_16','train climateschlafzimmer')"
   ]
  },
  {
   "cell_type": "code",
   "execution_count": 5,
   "metadata": {},
   "outputs": [
    {
     "ename": "AttributeError",
     "evalue": "'Lstm' object has no attribute 'train_set'",
     "output_type": "error",
     "traceback": [
      "\u001b[0;31m---------------------------------------------------------------------------\u001b[0m",
      "\u001b[0;31mAttributeError\u001b[0m                            Traceback (most recent call last)",
      "\u001b[0;32m<ipython-input-5-4db35cf81e52>\u001b[0m in \u001b[0;36m<module>\u001b[0;34m\u001b[0m\n\u001b[1;32m      1\u001b[0m \u001b[0;31m# validate train data\u001b[0m\u001b[0;34m\u001b[0m\u001b[0;34m\u001b[0m\u001b[0;34m\u001b[0m\u001b[0m\n\u001b[0;32m----> 2\u001b[0;31m \u001b[0mprint\u001b[0m\u001b[0;34m(\u001b[0m\u001b[0mmy_lstm\u001b[0m\u001b[0;34m.\u001b[0m\u001b[0mtrain_set\u001b[0m\u001b[0;34m.\u001b[0m\u001b[0mshape\u001b[0m\u001b[0;34m)\u001b[0m\u001b[0;34m\u001b[0m\u001b[0;34m\u001b[0m\u001b[0m\n\u001b[0m\u001b[1;32m      3\u001b[0m \u001b[0;31m#print(train_set[0, 0, 0], train_set[-1, -1, 0])\u001b[0m\u001b[0;34m\u001b[0m\u001b[0;34m\u001b[0m\u001b[0;34m\u001b[0m\u001b[0m\n\u001b[1;32m      4\u001b[0m \u001b[0;31m# validate test\u001b[0m\u001b[0;34m\u001b[0m\u001b[0;34m\u001b[0m\u001b[0;34m\u001b[0m\u001b[0m\n\u001b[1;32m      5\u001b[0m \u001b[0mprint\u001b[0m\u001b[0;34m(\u001b[0m\u001b[0mmy_lstm\u001b[0m\u001b[0;34m.\u001b[0m\u001b[0mtest_set\u001b[0m\u001b[0;34m.\u001b[0m\u001b[0mshape\u001b[0m\u001b[0;34m)\u001b[0m\u001b[0;34m\u001b[0m\u001b[0;34m\u001b[0m\u001b[0m\n",
      "\u001b[0;32m~/anaconda3/envs/week_program/lib/python3.6/site-packages/torch/nn/modules/module.py\u001b[0m in \u001b[0;36m__getattr__\u001b[0;34m(self, name)\u001b[0m\n\u001b[1;32m    533\u001b[0m                 \u001b[0;32mreturn\u001b[0m \u001b[0mmodules\u001b[0m\u001b[0;34m[\u001b[0m\u001b[0mname\u001b[0m\u001b[0;34m]\u001b[0m\u001b[0;34m\u001b[0m\u001b[0;34m\u001b[0m\u001b[0m\n\u001b[1;32m    534\u001b[0m         raise AttributeError(\"'{}' object has no attribute '{}'\".format(\n\u001b[0;32m--> 535\u001b[0;31m             type(self).__name__, name))\n\u001b[0m\u001b[1;32m    536\u001b[0m \u001b[0;34m\u001b[0m\u001b[0m\n\u001b[1;32m    537\u001b[0m     \u001b[0;32mdef\u001b[0m \u001b[0m__setattr__\u001b[0m\u001b[0;34m(\u001b[0m\u001b[0mself\u001b[0m\u001b[0;34m,\u001b[0m \u001b[0mname\u001b[0m\u001b[0;34m,\u001b[0m \u001b[0mvalue\u001b[0m\u001b[0;34m)\u001b[0m\u001b[0;34m:\u001b[0m\u001b[0;34m\u001b[0m\u001b[0;34m\u001b[0m\u001b[0m\n",
      "\u001b[0;31mAttributeError\u001b[0m: 'Lstm' object has no attribute 'train_set'"
     ]
    }
   ],
   "source": [
    "# validate train data\n",
    "print(my_lstm.train_set.shape)\n",
    "#print(train_set[0, 0, 0], train_set[-1, -1, 0])\n",
    "# validate test\n",
    "print(my_lstm.test_set.shape)\n",
    "#print(test_set[0, 0, 0], test_set[-1, -1, 0])\n",
    "print(my_lstm.val_set.shape)"
   ]
  },
  {
   "cell_type": "code",
   "execution_count": 18,
   "metadata": {},
   "outputs": [
    {
     "data": {
      "text/plain": [
       "(1439, 18)"
      ]
     },
     "execution_count": 18,
     "metadata": {},
     "output_type": "execute_result"
    }
   ],
   "source": [
    "my_lstm.train_set[0,:,:].shape"
   ]
  },
  {
   "cell_type": "code",
   "execution_count": 19,
   "metadata": {},
   "outputs": [
    {
     "ename": "AttributeError",
     "evalue": "'Lstm' object has no attribute 'y_train'",
     "output_type": "error",
     "traceback": [
      "\u001b[0;31m---------------------------------------------------------------------------\u001b[0m",
      "\u001b[0;31mAttributeError\u001b[0m                            Traceback (most recent call last)",
      "\u001b[0;32m<ipython-input-19-ece30a6785f7>\u001b[0m in \u001b[0;36m<module>\u001b[0;34m\u001b[0m\n\u001b[0;32m----> 1\u001b[0;31m \u001b[0mmy_lstm\u001b[0m\u001b[0;34m.\u001b[0m\u001b[0my_train\u001b[0m\u001b[0;34m.\u001b[0m\u001b[0mshape\u001b[0m\u001b[0;34m\u001b[0m\u001b[0;34m\u001b[0m\u001b[0m\n\u001b[0m",
      "\u001b[0;32m~/anaconda3/envs/week_program/lib/python3.6/site-packages/torch/nn/modules/module.py\u001b[0m in \u001b[0;36m__getattr__\u001b[0;34m(self, name)\u001b[0m\n\u001b[1;32m    533\u001b[0m                 \u001b[0;32mreturn\u001b[0m \u001b[0mmodules\u001b[0m\u001b[0;34m[\u001b[0m\u001b[0mname\u001b[0m\u001b[0;34m]\u001b[0m\u001b[0;34m\u001b[0m\u001b[0;34m\u001b[0m\u001b[0m\n\u001b[1;32m    534\u001b[0m         raise AttributeError(\"'{}' object has no attribute '{}'\".format(\n\u001b[0;32m--> 535\u001b[0;31m             type(self).__name__, name))\n\u001b[0m\u001b[1;32m    536\u001b[0m \u001b[0;34m\u001b[0m\u001b[0m\n\u001b[1;32m    537\u001b[0m     \u001b[0;32mdef\u001b[0m \u001b[0m__setattr__\u001b[0m\u001b[0;34m(\u001b[0m\u001b[0mself\u001b[0m\u001b[0;34m,\u001b[0m \u001b[0mname\u001b[0m\u001b[0;34m,\u001b[0m \u001b[0mvalue\u001b[0m\u001b[0;34m)\u001b[0m\u001b[0;34m:\u001b[0m\u001b[0;34m\u001b[0m\u001b[0;34m\u001b[0m\u001b[0m\n",
      "\u001b[0;31mAttributeError\u001b[0m: 'Lstm' object has no attribute 'y_train'"
     ]
    }
   ],
   "source": [
    "my_lstm.y_train.shape"
   ]
  },
  {
   "cell_type": "code",
   "execution_count": 6,
   "metadata": {},
   "outputs": [],
   "source": [
    "samples_per_day = 320#1440\n",
    "learning_rate = 0.005\n",
    "\n",
    "n_epochs = 10\n",
    "batch_size = 128"
   ]
  },
  {
   "cell_type": "code",
   "execution_count": 9,
   "metadata": {
    "scrolled": true
   },
   "outputs": [
    {
     "ename": "NameError",
     "evalue": "name 'train_set' is not defined",
     "output_type": "error",
     "traceback": [
      "\u001b[0;31m---------------------------------------------------------------------------\u001b[0m",
      "\u001b[0;31mNameError\u001b[0m                                 Traceback (most recent call last)",
      "\u001b[0;32m<ipython-input-9-e250c8d1c26e>\u001b[0m in \u001b[0;36m<module>\u001b[0;34m\u001b[0m\n\u001b[0;32m----> 1\u001b[0;31m \u001b[0mX_train\u001b[0m\u001b[0;34m,\u001b[0m \u001b[0my_train\u001b[0m \u001b[0;34m=\u001b[0m \u001b[0mpreprocessing\u001b[0m\u001b[0;34m.\u001b[0m\u001b[0mto_supervised\u001b[0m\u001b[0;34m(\u001b[0m\u001b[0mtrain_set\u001b[0m\u001b[0;34m,\u001b[0m\u001b[0mbatch_size\u001b[0m\u001b[0;34m,\u001b[0m\u001b[0msamples_per_day\u001b[0m\u001b[0;34m)\u001b[0m\u001b[0;34m\u001b[0m\u001b[0;34m\u001b[0m\u001b[0m\n\u001b[0m",
      "\u001b[0;31mNameError\u001b[0m: name 'train_set' is not defined"
     ]
    }
   ],
   "source": [
    "X_train, y_train = preprocessing.to_supervised(train_set,batch_size,samples_per_day)"
   ]
  },
  {
   "cell_type": "code",
   "execution_count": 37,
   "metadata": {},
   "outputs": [],
   "source": [
    "X_val, y_val = to_supervised(val_set,batch_size,samples_per_day)"
   ]
  },
  {
   "cell_type": "code",
   "execution_count": 38,
   "metadata": {},
   "outputs": [],
   "source": [
    "X_test, y_test = to_supervised(test_set,batch_size,samples_per_day)"
   ]
  },
  {
   "cell_type": "code",
   "execution_count": 39,
   "metadata": {},
   "outputs": [
    {
     "data": {
      "text/plain": [
       "(13750, 320, 17)"
      ]
     },
     "execution_count": 39,
     "metadata": {},
     "output_type": "execute_result"
    }
   ],
   "source": [
    "X_train.shape"
   ]
  },
  {
   "cell_type": "code",
   "execution_count": 40,
   "metadata": {},
   "outputs": [
    {
     "data": {
      "text/plain": [
       "(13750, 320)"
      ]
     },
     "execution_count": 40,
     "metadata": {},
     "output_type": "execute_result"
    }
   ],
   "source": [
    "y_train.shape"
   ]
  },
  {
   "cell_type": "code",
   "execution_count": 41,
   "metadata": {},
   "outputs": [],
   "source": [
    "X = torch.from_numpy(X_train).type(torch.float32)"
   ]
  },
  {
   "cell_type": "code",
   "execution_count": 42,
   "metadata": {},
   "outputs": [
    {
     "data": {
      "text/plain": [
       "tensor([[[1.9000e+01, 3.4000e+00, 2.0000e+00,  ..., 2.0190e+03,\n",
       "          1.6667e-02, 1.0000e+00],\n",
       "         [1.9000e+01, 3.4000e+00, 2.0000e+00,  ..., 2.0190e+03,\n",
       "          3.3333e-02, 1.0000e+00],\n",
       "         [1.9000e+01, 3.4000e+00, 2.0000e+00,  ..., 2.0190e+03,\n",
       "          5.0000e-02, 1.0000e+00],\n",
       "         ...,\n",
       "         [1.9000e+01, 4.4000e+00, 2.0000e+00,  ..., 2.0190e+03,\n",
       "          5.3000e+00, 1.0000e+00],\n",
       "         [1.9000e+01, 4.4000e+00, 2.0000e+00,  ..., 2.0190e+03,\n",
       "          5.3167e+00, 1.0000e+00],\n",
       "         [1.9000e+01, 4.4000e+00, 2.0000e+00,  ..., 2.0190e+03,\n",
       "          5.3333e+00, 1.0000e+00]],\n",
       "\n",
       "        [[1.9000e+01, 3.4000e+00, 2.0000e+00,  ..., 2.0190e+03,\n",
       "          3.3333e-02, 1.0000e+00],\n",
       "         [1.9000e+01, 3.4000e+00, 2.0000e+00,  ..., 2.0190e+03,\n",
       "          5.0000e-02, 1.0000e+00],\n",
       "         [1.9000e+01, 3.2000e+00, 2.0000e+00,  ..., 2.0190e+03,\n",
       "          6.6667e-02, 1.0000e+00],\n",
       "         ...,\n",
       "         [1.9000e+01, 4.4000e+00, 2.0000e+00,  ..., 2.0190e+03,\n",
       "          5.3167e+00, 1.0000e+00],\n",
       "         [1.9000e+01, 4.4000e+00, 2.0000e+00,  ..., 2.0190e+03,\n",
       "          5.3333e+00, 1.0000e+00],\n",
       "         [1.9000e+01, 4.4000e+00, 2.0000e+00,  ..., 2.0190e+03,\n",
       "          5.3500e+00, 1.0000e+00]],\n",
       "\n",
       "        [[1.9000e+01, 3.4000e+00, 2.0000e+00,  ..., 2.0190e+03,\n",
       "          5.0000e-02, 1.0000e+00],\n",
       "         [1.9000e+01, 3.2000e+00, 2.0000e+00,  ..., 2.0190e+03,\n",
       "          6.6667e-02, 1.0000e+00],\n",
       "         [1.9000e+01, 3.2000e+00, 2.0000e+00,  ..., 2.0190e+03,\n",
       "          8.3333e-02, 1.0000e+00],\n",
       "         ...,\n",
       "         [1.9000e+01, 4.4000e+00, 2.0000e+00,  ..., 2.0190e+03,\n",
       "          5.3333e+00, 1.0000e+00],\n",
       "         [1.9000e+01, 4.4000e+00, 2.0000e+00,  ..., 2.0190e+03,\n",
       "          5.3500e+00, 1.0000e+00],\n",
       "         [1.9000e+01, 4.4000e+00, 2.0000e+00,  ..., 2.0190e+03,\n",
       "          5.3667e+00, 1.0000e+00]],\n",
       "\n",
       "        ...,\n",
       "\n",
       "        [[1.7000e+01, 6.6000e+00, 3.0000e+00,  ..., 2.0190e+03,\n",
       "          1.3283e+01, 3.0000e+00],\n",
       "         [1.7000e+01, 6.6000e+00, 3.0000e+00,  ..., 2.0190e+03,\n",
       "          1.3300e+01, 3.0000e+00],\n",
       "         [1.7000e+01, 6.6000e+00, 3.0000e+00,  ..., 2.0190e+03,\n",
       "          1.3317e+01, 3.0000e+00],\n",
       "         ...,\n",
       "         [1.9000e+01, 2.8000e+00, 4.0000e+00,  ..., 2.0190e+03,\n",
       "          1.8567e+01, 3.0000e+00],\n",
       "         [1.9000e+01, 2.8000e+00, 4.0000e+00,  ..., 2.0190e+03,\n",
       "          1.8583e+01, 3.0000e+00],\n",
       "         [1.9000e+01, 2.8000e+00, 4.0000e+00,  ..., 2.0190e+03,\n",
       "          1.8600e+01, 3.0000e+00]],\n",
       "\n",
       "        [[1.7000e+01, 6.6000e+00, 3.0000e+00,  ..., 2.0190e+03,\n",
       "          1.3300e+01, 3.0000e+00],\n",
       "         [1.7000e+01, 6.6000e+00, 3.0000e+00,  ..., 2.0190e+03,\n",
       "          1.3317e+01, 3.0000e+00],\n",
       "         [1.7000e+01, 6.6000e+00, 3.0000e+00,  ..., 2.0190e+03,\n",
       "          1.3333e+01, 3.0000e+00],\n",
       "         ...,\n",
       "         [1.9000e+01, 2.8000e+00, 4.0000e+00,  ..., 2.0190e+03,\n",
       "          1.8583e+01, 3.0000e+00],\n",
       "         [1.9000e+01, 2.8000e+00, 4.0000e+00,  ..., 2.0190e+03,\n",
       "          1.8600e+01, 3.0000e+00],\n",
       "         [1.9000e+01, 2.8000e+00, 4.0000e+00,  ..., 2.0190e+03,\n",
       "          1.8617e+01, 3.0000e+00]],\n",
       "\n",
       "        [[1.7000e+01, 6.6000e+00, 3.0000e+00,  ..., 2.0190e+03,\n",
       "          1.3317e+01, 3.0000e+00],\n",
       "         [1.7000e+01, 6.6000e+00, 3.0000e+00,  ..., 2.0190e+03,\n",
       "          1.3333e+01, 3.0000e+00],\n",
       "         [1.7000e+01, 6.6000e+00, 3.0000e+00,  ..., 2.0190e+03,\n",
       "          1.3350e+01, 3.0000e+00],\n",
       "         ...,\n",
       "         [1.9000e+01, 2.8000e+00, 4.0000e+00,  ..., 2.0190e+03,\n",
       "          1.8600e+01, 3.0000e+00],\n",
       "         [1.9000e+01, 2.8000e+00, 4.0000e+00,  ..., 2.0190e+03,\n",
       "          1.8617e+01, 3.0000e+00],\n",
       "         [1.9000e+01, 2.8000e+00, 4.0000e+00,  ..., 2.0190e+03,\n",
       "          1.8633e+01, 3.0000e+00]]])"
      ]
     },
     "execution_count": 42,
     "metadata": {},
     "output_type": "execute_result"
    }
   ],
   "source": [
    "X"
   ]
  },
  {
   "cell_type": "code",
   "execution_count": 43,
   "metadata": {},
   "outputs": [],
   "source": [
    "X_v = torch.from_numpy(X_val).type(torch.float32)"
   ]
  },
  {
   "cell_type": "code",
   "execution_count": 44,
   "metadata": {},
   "outputs": [],
   "source": [
    "X_t = torch.from_numpy(X_test).type(torch.float32)"
   ]
  },
  {
   "cell_type": "code",
   "execution_count": 45,
   "metadata": {},
   "outputs": [
    {
     "name": "stdout",
     "output_type": "stream",
     "text": [
      "torch.Size([13750, 320, 17]) (799, 320, 17) (799, 320, 17)\n"
     ]
    }
   ],
   "source": [
    "print(X.shape, X_val.shape , X_test.shape)"
   ]
  },
  {
   "cell_type": "code",
   "execution_count": 46,
   "metadata": {},
   "outputs": [],
   "source": [
    "# normalize\n",
    "#X = X / float(X_train.shape[0])"
   ]
  },
  {
   "cell_type": "code",
   "execution_count": 47,
   "metadata": {},
   "outputs": [],
   "source": [
    "y = torch.from_numpy(y_train).type(torch.float32)"
   ]
  },
  {
   "cell_type": "code",
   "execution_count": 48,
   "metadata": {},
   "outputs": [],
   "source": [
    "y_v = torch.from_numpy(y_val).type(torch.float32)"
   ]
  },
  {
   "cell_type": "code",
   "execution_count": 49,
   "metadata": {},
   "outputs": [],
   "source": [
    "y_t = torch.from_numpy(y_test).type(torch.float32)"
   ]
  },
  {
   "cell_type": "code",
   "execution_count": 50,
   "metadata": {},
   "outputs": [
    {
     "data": {
      "text/plain": [
       "torch.Size([13750, 320])"
      ]
     },
     "execution_count": 50,
     "metadata": {},
     "output_type": "execute_result"
    }
   ],
   "source": [
    "y.shape"
   ]
  },
  {
   "cell_type": "code",
   "execution_count": 51,
   "metadata": {},
   "outputs": [
    {
     "data": {
      "text/plain": [
       "17"
      ]
     },
     "execution_count": 51,
     "metadata": {},
     "output_type": "execute_result"
    }
   ],
   "source": [
    "X.shape[2]"
   ]
  },
  {
   "cell_type": "code",
   "execution_count": 54,
   "metadata": {},
   "outputs": [
    {
     "data": {
      "text/plain": [
       "17"
      ]
     },
     "execution_count": 54,
     "metadata": {},
     "output_type": "execute_result"
    }
   ],
   "source": [
    "features"
   ]
  },
  {
   "cell_type": "code",
   "execution_count": 53,
   "metadata": {},
   "outputs": [],
   "source": [
    "# Regularisierung\n",
    "weight_decay=0.0\n",
    "\n",
    "# the model\n",
    "hidden_dim = 64\n",
    "features = X.shape[2]\n",
    "#model = Lstm(features, hidden_dim, d_out=1)\n",
    "N = X_train.shape[0]"
   ]
  },
  {
   "cell_type": "code",
   "execution_count": 517,
   "metadata": {},
   "outputs": [],
   "source": [
    "# ADAM\n",
    "optimizer = torch.optim.Adam(model.parameters(), lr=learning_rate, weight_decay=weight_decay)"
   ]
  },
  {
   "cell_type": "code",
   "execution_count": 518,
   "metadata": {},
   "outputs": [],
   "source": [
    "# Loss\n",
    "criterion = nn.MSELoss()"
   ]
  },
  {
   "cell_type": "code",
   "execution_count": 519,
   "metadata": {},
   "outputs": [],
   "source": [
    "loss_hist = []\n",
    "outputs= []"
   ]
  },
  {
   "cell_type": "code",
   "execution_count": null,
   "metadata": {},
   "outputs": [],
   "source": [
    "# Train\n",
    "epochs = range(n_epochs)\n",
    "idx = 0\n",
    "\n",
    "for t in epochs:\n",
    "    start = time.time()      \n",
    "    #or batch in range(0, int(N/batch_size)+1):\n",
    "    #   if(batch<int(N/batch_size)):\n",
    "    #   # Step 1. Calculate Batch\n",
    "    #       batch_x = X[batch * batch_size : (batch + 1) * batch_size, :,:]  \n",
    "    #       # convert to: sequence x batch_size x n_features \n",
    "    #       #batch_x = batch_x.reshape(batch_size, samples_per_day, features)#.transpose(0,1)  \n",
    "    #       batch_y = y[batch * batch_size : (batch + 1) * batch_size] \n",
    "    #       \n",
    "    #       #print(X.shape, batch_x.shape, batch_y.shape)\n",
    "    #   else:\n",
    "    #       batch_x = X[(batch - 1) * batch_size +(N % batch_size): batch * batch_size + (N % batch_size), :]   \n",
    "    #       # convert to: sequence x batch_size x n_features \n",
    "    #       #batch_x = batch_x.reshape(batch_size, samples_per_day, features).transpose(0,1)        \n",
    "    #       batch_y = y[(batch - 1) * batch_size + (N % batch_size): (batch + 1) * batch_size + (N % batch_size)]    # Step 2. Remember that Pytorch accumulates gradients.\n",
    "    \n",
    "    # We need to clear them out before each instance\n",
    "    model.zero_grad()\n",
    "        \n",
    "    # Also, we need to clear out the hidden state of the LSTM,\n",
    "    # detaching it from its history on the last instance.\n",
    "    model.hidden = model.init_hidden(batch_size)\n",
    "    \n",
    "    # Step 3. Run our forward pass.\n",
    "    output = model(X)\n",
    "    #outputs.append(output)\n",
    "    # Step 4. Berechne den Fehler mit dem letzten output \n",
    "    loss = criterion(output[-1,:,-1], batch_y[-1,:])\n",
    "    #print(output.shape, batch_y.shape)\n",
    "    \n",
    "    optimizer.zero_grad()\n",
    "    loss.backward()\n",
    "    optimizer.step()\n",
    "    \n",
    "    # Berechne den Fehler (Ausgabe des Fehlers alle 100 Iterationen)\n",
    "    if t % 1 == 0:\n",
    "        loss_hist.append(loss.item())\n",
    "        print(t, loss.item(), time.time()-start)\n"
   ]
  },
  {
   "cell_type": "code",
   "execution_count": null,
   "metadata": {},
   "outputs": [],
   "source": [
    "plt.plot(loss_hist);"
   ]
  },
  {
   "cell_type": "code",
   "execution_count": null,
   "metadata": {},
   "outputs": [],
   "source": [
    "outputs"
   ]
  },
  {
   "cell_type": "code",
   "execution_count": null,
   "metadata": {
    "scrolled": false
   },
   "outputs": [],
   "source": [
    "\n",
    "new_val = []\n",
    "for items in range(output.shape[0]):\n",
    "    dff = batch_y.numpy()\n",
    "    new_val.append(output[items,:,-1].detach().mean())\n",
    "    #print(dff[items])\n",
    "    #np.append(dff,new_val)\n",
    "    #plt.plot(output[items,:].detach().numpy());\n",
    "    #plt.plot(dff);\n",
    "    plt.figure(1, figsize=(16, 300))\n",
    "    plt.subplot(output.shape[0]//2,2,items+1)\n",
    "    plt.plot(dff[items])\n",
    "    plt.plot(output[items,:,-1].detach().numpy());\n",
    "    plt.legend(['real','predicted']);"
   ]
  },
  {
   "cell_type": "code",
   "execution_count": null,
   "metadata": {},
   "outputs": [],
   "source": [
    "    plt.plot(outputs);\n",
    "   # plt.plot(batch_y.numpy()[1]);"
   ]
  },
  {
   "cell_type": "code",
   "execution_count": null,
   "metadata": {},
   "outputs": [],
   "source": [
    "plt.plot(output[-1,:,-1].detach().numpy());\n",
    "plt.plot(batch_y[-1,:].numpy());"
   ]
  },
  {
   "cell_type": "code",
   "execution_count": null,
   "metadata": {},
   "outputs": [],
   "source": [
    "batch_y[-1,:]"
   ]
  },
  {
   "cell_type": "code",
   "execution_count": null,
   "metadata": {},
   "outputs": [],
   "source": [
    "output.shape"
   ]
  },
  {
   "cell_type": "code",
   "execution_count": 257,
   "metadata": {},
   "outputs": [
    {
     "data": {
      "text/plain": [
       "tensor([[18.6000]])"
      ]
     },
     "execution_count": 257,
     "metadata": {},
     "output_type": "execute_result"
    }
   ],
   "source": [
    "batch_y"
   ]
  },
  {
   "cell_type": "code",
   "execution_count": null,
   "metadata": {},
   "outputs": [],
   "source": [
    "output[-1,:,-1].detach().mean()"
   ]
  },
  {
   "cell_type": "code",
   "execution_count": null,
   "metadata": {},
   "outputs": [],
   "source": []
  },
  {
   "cell_type": "code",
   "execution_count": null,
   "metadata": {},
   "outputs": [],
   "source": []
  },
  {
   "cell_type": "code",
   "execution_count": null,
   "metadata": {},
   "outputs": [],
   "source": [
    "output_test = model(X_Test)"
   ]
  },
  {
   "cell_type": "code",
   "execution_count": null,
   "metadata": {},
   "outputs": [],
   "source": [
    "evaluate_forecasts(y_test, output_test)"
   ]
  },
  {
   "cell_type": "code",
   "execution_count": null,
   "metadata": {},
   "outputs": [],
   "source": []
  },
  {
   "cell_type": "code",
   "execution_count": null,
   "metadata": {},
   "outputs": [],
   "source": []
  }
 ],
 "metadata": {
  "kernelspec": {
   "display_name": "Python 3",
   "language": "python",
   "name": "python3"
  },
  "language_info": {
   "codemirror_mode": {
    "name": "ipython",
    "version": 3
   },
   "file_extension": ".py",
   "mimetype": "text/x-python",
   "name": "python",
   "nbconvert_exporter": "python",
   "pygments_lexer": "ipython3",
   "version": "3.6.8"
  }
 },
 "nbformat": 4,
 "nbformat_minor": 2
}
