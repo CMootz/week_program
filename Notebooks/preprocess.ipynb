{
 "cells": [
  {
   "cell_type": "code",
   "execution_count": 18,
   "metadata": {},
   "outputs": [],
   "source": [
    "import sqlite3 as sql\n",
    "import pandas as pd\n",
    "import torch\n",
    "import numpy as np\n",
    "import json\n",
    "import matplotlib.pyplot as plt\n",
    "import matplotlib\n",
    "import dateutil\n",
    "import datetime\n",
    "import sklearn\n",
    "import preprocessing"
   ]
  },
  {
   "cell_type": "code",
   "execution_count": 19,
   "metadata": {},
   "outputs": [
    {
     "name": "stdout",
     "output_type": "stream",
     "text": [
      "The autoreload extension is already loaded. To reload it, use:\n",
      "  %reload_ext autoreload\n"
     ]
    }
   ],
   "source": [
    "%load_ext autoreload\n",
    "%autoreload 2"
   ]
  },
  {
   "cell_type": "code",
   "execution_count": 20,
   "metadata": {},
   "outputs": [],
   "source": [
    "S_data_2019_04_04 = preprocessing.Preprocessing('S_data_2019_04_04','/Users/cm/20190403/','home-assistant_v2.db')"
   ]
  },
  {
   "cell_type": "code",
   "execution_count": 32,
   "metadata": {},
   "outputs": [],
   "source": [
    "rooms = ['schlafzimmer','bad','kuche','wohnzimmer']"
   ]
  },
  {
   "cell_type": "code",
   "execution_count": 33,
   "metadata": {},
   "outputs": [],
   "source": [
    "S_data_2019_04_04.load_data(rooms=rooms)"
   ]
  },
  {
   "cell_type": "code",
   "execution_count": 36,
   "metadata": {},
   "outputs": [
    {
     "data": {
      "text/html": [
       "<div>\n",
       "<style scoped>\n",
       "    .dataframe tbody tr th:only-of-type {\n",
       "        vertical-align: middle;\n",
       "    }\n",
       "\n",
       "    .dataframe tbody tr th {\n",
       "        vertical-align: top;\n",
       "    }\n",
       "\n",
       "    .dataframe thead th {\n",
       "        text-align: right;\n",
       "    }\n",
       "</style>\n",
       "<table border=\"1\" class=\"dataframe\">\n",
       "  <thead>\n",
       "    <tr style=\"text-align: right;\">\n",
       "      <th></th>\n",
       "      <th>entity_id</th>\n",
       "      <th>state</th>\n",
       "      <th>attributes</th>\n",
       "      <th>last_updated</th>\n",
       "      <th>current_temp</th>\n",
       "      <th>set_temp</th>\n",
       "    </tr>\n",
       "  </thead>\n",
       "  <tbody>\n",
       "    <tr>\n",
       "      <th>0</th>\n",
       "      <td>climate.wohnzimmer_wandthermostat_wz</td>\n",
       "      <td>manual</td>\n",
       "      <td>{\"current_temperature\": 16.7, \"min_temp\": 4.5,...</td>\n",
       "      <td>2019-03-21 20:58:15.919782</td>\n",
       "      <td>16.7</td>\n",
       "      <td>16.5</td>\n",
       "    </tr>\n",
       "    <tr>\n",
       "      <th>1</th>\n",
       "      <td>climate.wohnzimmer_wandthermostat_wz</td>\n",
       "      <td>manual</td>\n",
       "      <td>{\"current_temperature\": 16.9, \"min_temp\": 4.5,...</td>\n",
       "      <td>2019-03-21 21:03:20.902970</td>\n",
       "      <td>16.9</td>\n",
       "      <td>16.5</td>\n",
       "    </tr>\n",
       "    <tr>\n",
       "      <th>2</th>\n",
       "      <td>climate.wohnzimmer_wandthermostat_wz</td>\n",
       "      <td>manual</td>\n",
       "      <td>{\"current_temperature\": 16.7, \"min_temp\": 4.5,...</td>\n",
       "      <td>2019-03-21 21:13:30.925355</td>\n",
       "      <td>16.7</td>\n",
       "      <td>16.5</td>\n",
       "    </tr>\n",
       "    <tr>\n",
       "      <th>3</th>\n",
       "      <td>climate.wohnzimmer_wandthermostat_wz</td>\n",
       "      <td>manual</td>\n",
       "      <td>{\"current_temperature\": 16.9, \"min_temp\": 4.5,...</td>\n",
       "      <td>2019-03-21 21:18:33.946381</td>\n",
       "      <td>16.9</td>\n",
       "      <td>16.5</td>\n",
       "    </tr>\n",
       "    <tr>\n",
       "      <th>4</th>\n",
       "      <td>climate.wohnzimmer_wandthermostat_wz</td>\n",
       "      <td>manual</td>\n",
       "      <td>{\"current_temperature\": 16.7, \"min_temp\": 4.5,...</td>\n",
       "      <td>2019-03-21 21:23:40.920109</td>\n",
       "      <td>16.7</td>\n",
       "      <td>16.5</td>\n",
       "    </tr>\n",
       "  </tbody>\n",
       "</table>\n",
       "</div>"
      ],
      "text/plain": [
       "                              entity_id   state  \\\n",
       "0  climate.wohnzimmer_wandthermostat_wz  manual   \n",
       "1  climate.wohnzimmer_wandthermostat_wz  manual   \n",
       "2  climate.wohnzimmer_wandthermostat_wz  manual   \n",
       "3  climate.wohnzimmer_wandthermostat_wz  manual   \n",
       "4  climate.wohnzimmer_wandthermostat_wz  manual   \n",
       "\n",
       "                                          attributes  \\\n",
       "0  {\"current_temperature\": 16.7, \"min_temp\": 4.5,...   \n",
       "1  {\"current_temperature\": 16.9, \"min_temp\": 4.5,...   \n",
       "2  {\"current_temperature\": 16.7, \"min_temp\": 4.5,...   \n",
       "3  {\"current_temperature\": 16.9, \"min_temp\": 4.5,...   \n",
       "4  {\"current_temperature\": 16.7, \"min_temp\": 4.5,...   \n",
       "\n",
       "                 last_updated  current_temp  set_temp  \n",
       "0  2019-03-21 20:58:15.919782          16.7      16.5  \n",
       "1  2019-03-21 21:03:20.902970          16.9      16.5  \n",
       "2  2019-03-21 21:13:30.925355          16.7      16.5  \n",
       "3  2019-03-21 21:18:33.946381          16.9      16.5  \n",
       "4  2019-03-21 21:23:40.920109          16.7      16.5  "
      ]
     },
     "execution_count": 36,
     "metadata": {},
     "output_type": "execute_result"
    }
   ],
   "source": [
    "S_data_2019_04_04.get('train_raw_climatewohnzimmer').head()"
   ]
  },
  {
   "cell_type": "code",
   "execution_count": null,
   "metadata": {},
   "outputs": [],
   "source": []
  },
  {
   "cell_type": "code",
   "execution_count": null,
   "metadata": {},
   "outputs": [],
   "source": []
  },
  {
   "cell_type": "code",
   "execution_count": null,
   "metadata": {},
   "outputs": [],
   "source": []
  }
 ],
 "metadata": {
  "kernelspec": {
   "display_name": "Python 3",
   "language": "python",
   "name": "python3"
  }
 },
 "nbformat": 4,
 "nbformat_minor": 2
}
