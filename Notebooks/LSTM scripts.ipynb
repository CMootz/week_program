{
 "cells": [
  {
   "cell_type": "code",
   "execution_count": 15,
   "metadata": {},
   "outputs": [],
   "source": [
    "import torch\n",
    "import matplotlib.pyplot as plt\n",
    "import pandas as pd\n",
    "\n",
    "import models\n",
    "import preprocessing as prep\n",
    "import train"
   ]
  },
  {
   "cell_type": "code",
   "execution_count": 16,
   "metadata": {},
   "outputs": [
    {
     "name": "stdout",
     "output_type": "stream",
     "text": [
      "The autoreload extension is already loaded. To reload it, use:\n",
      "  %reload_ext autoreload\n"
     ]
    }
   ],
   "source": [
    "%load_ext autoreload\n",
    "%autoreload 2"
   ]
  },
  {
   "cell_type": "code",
   "execution_count": 17,
   "metadata": {},
   "outputs": [],
   "source": [
    "dtype = torch.float\n",
    "device = torch.device(\"cpu\")"
   ]
  },
  {
   "cell_type": "code",
   "execution_count": 49,
   "metadata": {},
   "outputs": [
    {
     "name": "stdout",
     "output_type": "stream",
     "text": [
      "(572, 18) (143, 18) (143, 18)\n"
     ]
    }
   ],
   "source": [
    "X_train, X_val, _, y_train, y_val, _ = prep.load_lstm_data('../data/S_data_2019_04_14/', 'train climatewohnzimmer', 143, 3)"
   ]
  },
  {
   "cell_type": "code",
   "execution_count": 50,
   "metadata": {},
   "outputs": [
    {
     "data": {
      "text/plain": [
       "(142, 143, 13)"
      ]
     },
     "execution_count": 50,
     "metadata": {},
     "output_type": "execute_result"
    }
   ],
   "source": [
    "X_train.shape"
   ]
  },
  {
   "cell_type": "code",
   "execution_count": 51,
   "metadata": {},
   "outputs": [],
   "source": [
    "x = torch.from_numpy(X_train[:,0:1,:]).to(device).type(dtype)"
   ]
  },
  {
   "cell_type": "code",
   "execution_count": 52,
   "metadata": {},
   "outputs": [
    {
     "data": {
      "text/plain": [
       "torch.Size([142, 1, 13])"
      ]
     },
     "execution_count": 52,
     "metadata": {},
     "output_type": "execute_result"
    }
   ],
   "source": [
    "x.shape"
   ]
  },
  {
   "cell_type": "code",
   "execution_count": 53,
   "metadata": {},
   "outputs": [
    {
     "data": {
      "text/plain": [
       "142"
      ]
     },
     "execution_count": 53,
     "metadata": {},
     "output_type": "execute_result"
    }
   ],
   "source": [
    "len(X_train)"
   ]
  },
  {
   "cell_type": "code",
   "execution_count": 54,
   "metadata": {},
   "outputs": [
    {
     "data": {
      "text/plain": [
       "(142, 3)"
      ]
     },
     "execution_count": 54,
     "metadata": {},
     "output_type": "execute_result"
    }
   ],
   "source": [
    "y_train.shape"
   ]
  },
  {
   "cell_type": "code",
   "execution_count": 55,
   "metadata": {},
   "outputs": [
    {
     "data": {
      "text/plain": [
       "(143, 142, 13)"
      ]
     },
     "execution_count": 55,
     "metadata": {},
     "output_type": "execute_result"
    }
   ],
   "source": [
    "X_train.transpose(1,0,2).shape"
   ]
  },
  {
   "cell_type": "code",
   "execution_count": 56,
   "metadata": {},
   "outputs": [],
   "source": [
    "model = models.Lstm(X_train.shape[2], 256, 143, 'LSTM1', 3, 2, dtype, device, False, 0.0)"
   ]
  },
  {
   "cell_type": "code",
   "execution_count": 57,
   "metadata": {},
   "outputs": [],
   "source": [
    "experiment_path = '../experiments/exp1/'"
   ]
  },
  {
   "cell_type": "code",
   "execution_count": 58,
   "metadata": {},
   "outputs": [],
   "source": [
    "training = train.TrainLstm(model, X_train, X_val, y_train, y_val, experiment_path)"
   ]
  },
  {
   "cell_type": "code",
   "execution_count": null,
   "metadata": {
    "scrolled": true
   },
   "outputs": [
    {
     "name": "stdout",
     "output_type": "stream",
     "text": [
      "Epoch  0  train_loss:  423.8971862792969 validate_loss:  326.5793762207031 Time  5.0937910079956055\n",
      "Epoch  10  train_loss:  8.877848625183105 validate_loss:  2.5342516899108887 Time  47.99062418937683\n",
      "Epoch  20  train_loss:  18.8065242767334 validate_loss:  14.180120468139648 Time  72.05126309394836\n",
      "Epoch  30  train_loss:  0.8940895199775696 validate_loss:  0.88222736120224 Time  80.18630409240723\n",
      "Epoch  40  train_loss:  0.8466129302978516 validate_loss:  0.787446141242981 Time  87.62563395500183\n",
      "Epoch  50  train_loss:  0.8415781855583191 validate_loss:  0.7564544677734375 Time  82.53709697723389\n",
      "Epoch  60  train_loss:  0.7194679975509644 validate_loss:  0.7196484804153442 Time  77.64471387863159\n",
      "Epoch  70  train_loss:  0.7059161067008972 validate_loss:  0.7084074020385742 Time  71.28235912322998\n",
      "Epoch  80  train_loss:  0.700415849685669 validate_loss:  0.7008477449417114 Time  62.472134828567505\n"
     ]
    }
   ],
   "source": [
    "training.run_train(150)"
   ]
  },
  {
   "cell_type": "code",
   "execution_count": null,
   "metadata": {},
   "outputs": [],
   "source": [
    "model.batch_size"
   ]
  },
  {
   "cell_type": "code",
   "execution_count": null,
   "metadata": {},
   "outputs": [],
   "source": []
  },
  {
   "cell_type": "code",
   "execution_count": null,
   "metadata": {},
   "outputs": [],
   "source": [
    "loss = pd.read_csv(experiment_path+'errors__LSTM1__.csv')"
   ]
  },
  {
   "cell_type": "code",
   "execution_count": null,
   "metadata": {},
   "outputs": [],
   "source": [
    "loss_val = pd.read_csv(experiment_path+'errors_val__LSTM1__.csv')"
   ]
  },
  {
   "cell_type": "code",
   "execution_count": null,
   "metadata": {},
   "outputs": [],
   "source": [
    "plt.plot(loss[50:]);\n",
    "plt.plot(loss_val[50:]);"
   ]
  },
  {
   "cell_type": "code",
   "execution_count": null,
   "metadata": {},
   "outputs": [],
   "source": []
  },
  {
   "cell_type": "code",
   "execution_count": null,
   "metadata": {},
   "outputs": [],
   "source": []
  },
  {
   "cell_type": "code",
   "execution_count": null,
   "metadata": {},
   "outputs": [],
   "source": []
  },
  {
   "cell_type": "code",
   "execution_count": null,
   "metadata": {},
   "outputs": [],
   "source": [
    "x_train, x_val, x_test, y_train, y_val, y_test = prep.load_lstm_data('../data/M_data_2019_04_16/', 'train climateschlafzimmer', 1, 1)"
   ]
  },
  {
   "cell_type": "code",
   "execution_count": null,
   "metadata": {},
   "outputs": [],
   "source": []
  },
  {
   "cell_type": "code",
   "execution_count": 51,
   "metadata": {},
   "outputs": [],
   "source": [
    "import torch.nn as nn"
   ]
  },
  {
   "cell_type": "code",
   "execution_count": 52,
   "metadata": {},
   "outputs": [],
   "source": [
    "rnn = nn.LSTM(10, 20, 2)"
   ]
  },
  {
   "cell_type": "code",
   "execution_count": 53,
   "metadata": {},
   "outputs": [],
   "source": [
    "input = torch.randn(5, 3, 10)"
   ]
  },
  {
   "cell_type": "code",
   "execution_count": 54,
   "metadata": {},
   "outputs": [
    {
     "data": {
      "text/plain": [
       "torch.Size([5, 3, 10])"
      ]
     },
     "execution_count": 54,
     "metadata": {},
     "output_type": "execute_result"
    }
   ],
   "source": [
    "input.shape"
   ]
  },
  {
   "cell_type": "code",
   "execution_count": 55,
   "metadata": {},
   "outputs": [
    {
     "data": {
      "text/plain": [
       "tensor([[[ 7.5614e-01,  1.2167e+00, -3.1603e-01, -2.3895e+00,  4.8381e-01,\n",
       "           7.2968e-01, -1.3157e+00,  5.6672e-01,  1.9504e+00, -9.6870e-01],\n",
       "         [-1.0779e-01, -1.5469e-01,  1.7124e-01,  1.7076e-01,  1.3271e+00,\n",
       "           1.0206e+00,  5.4443e-01, -3.5456e-01, -9.6861e-01,  5.7230e-01],\n",
       "         [-1.4201e+00,  4.3215e-01, -7.7455e-01, -1.3862e+00, -4.2180e-01,\n",
       "           3.9410e-01, -9.2836e-01,  1.0058e-01, -8.1319e-01,  4.7307e-01]],\n",
       "\n",
       "        [[ 2.0755e+00,  5.2099e-02,  1.6467e-01, -3.8166e+00, -1.7683e+00,\n",
       "           9.1415e-01, -6.7080e-01, -1.1066e+00, -5.7552e-01, -5.7920e-01],\n",
       "         [-2.2985e-01, -2.6706e-01, -1.7503e-01, -1.2458e+00, -3.3201e-01,\n",
       "           6.4765e-01, -6.3130e-01,  1.9835e-01, -4.8055e-02,  9.3250e-01],\n",
       "         [-1.2004e-01, -1.9546e-01, -5.6920e-02,  7.8474e-01, -2.5136e-02,\n",
       "           3.0537e-01, -3.1005e+00,  2.5692e-01, -1.2426e+00,  6.6220e-01]],\n",
       "\n",
       "        [[-3.0697e-01,  1.4106e-01, -1.2720e+00,  5.6953e-01, -2.1962e-01,\n",
       "          -4.2760e-01,  2.1817e-03, -5.2057e-01,  1.4678e+00, -1.4906e-02],\n",
       "         [-9.2215e-01,  8.4880e-01,  2.7388e+00, -7.4851e-01, -4.7279e-01,\n",
       "          -1.3886e+00,  3.7224e-01, -2.6111e+00, -1.1252e+00,  9.6957e-01],\n",
       "         [ 2.2654e-01, -6.8457e-01, -4.6966e-01,  3.7415e-01, -8.8347e-01,\n",
       "           3.8843e-01, -1.1792e+00, -2.8369e+00,  7.4018e-01,  1.1144e+00]],\n",
       "\n",
       "        [[-1.1976e+00,  5.9071e-01, -1.1966e-01, -3.7030e-01,  1.9496e-01,\n",
       "          -4.3564e-01, -3.7723e-01,  2.5056e-02, -2.6015e-01, -1.2806e+00],\n",
       "         [-5.4228e-01, -5.7811e-01, -1.0143e+00,  1.1087e+00,  4.6018e-03,\n",
       "           2.2529e-01,  1.3571e-01, -7.3778e-01, -2.2206e-01, -1.2376e+00],\n",
       "         [-6.9137e-02,  2.3796e+00, -7.9262e-01, -6.5568e-01,  1.4944e-01,\n",
       "          -6.1822e-01, -7.2113e-01,  8.4463e-01,  7.4438e-02,  8.1549e-01]],\n",
       "\n",
       "        [[-3.7283e-01,  1.3002e+00, -1.2404e+00,  1.4956e+00, -3.9230e-01,\n",
       "          -2.8453e-01, -9.6305e-01,  4.1047e-01,  8.3661e-01, -1.8920e+00],\n",
       "         [-1.3245e+00, -1.9645e-01, -2.4630e+00,  2.2428e-01, -1.0238e+00,\n",
       "           1.6331e-02, -3.2090e-01, -1.3960e-02, -2.6249e-01,  4.5923e-01],\n",
       "         [-1.9107e-01, -2.9068e-02,  2.1348e+00, -3.9301e-01,  1.3360e+00,\n",
       "          -8.9605e-01, -4.4115e-01, -7.4513e-01,  1.6506e+00, -7.5654e-01]]])"
      ]
     },
     "execution_count": 55,
     "metadata": {},
     "output_type": "execute_result"
    }
   ],
   "source": [
    "input"
   ]
  },
  {
   "cell_type": "code",
   "execution_count": 56,
   "metadata": {},
   "outputs": [],
   "source": [
    "h0 = torch.zeros(2, 3, 20)"
   ]
  },
  {
   "cell_type": "code",
   "execution_count": 57,
   "metadata": {},
   "outputs": [
    {
     "data": {
      "text/plain": [
       "torch.Size([2, 3, 20])"
      ]
     },
     "execution_count": 57,
     "metadata": {},
     "output_type": "execute_result"
    }
   ],
   "source": [
    "h0.shape"
   ]
  },
  {
   "cell_type": "code",
   "execution_count": 58,
   "metadata": {},
   "outputs": [],
   "source": [
    "c0 = torch.zeros(2, 3, 20)"
   ]
  },
  {
   "cell_type": "code",
   "execution_count": 59,
   "metadata": {},
   "outputs": [],
   "source": [
    "output, (hn, cn) = rnn(input, (h0, c0))"
   ]
  },
  {
   "cell_type": "code",
   "execution_count": 60,
   "metadata": {},
   "outputs": [
    {
     "data": {
      "text/plain": [
       "torch.Size([5, 3, 20])"
      ]
     },
     "execution_count": 60,
     "metadata": {},
     "output_type": "execute_result"
    }
   ],
   "source": [
    "output.shape"
   ]
  },
  {
   "cell_type": "code",
   "execution_count": 61,
   "metadata": {},
   "outputs": [],
   "source": [
    "out = nn.Linear(20, 1)"
   ]
  },
  {
   "cell_type": "code",
   "execution_count": 62,
   "metadata": {},
   "outputs": [],
   "source": [
    "y_pred = out(output)"
   ]
  },
  {
   "cell_type": "code",
   "execution_count": 63,
   "metadata": {},
   "outputs": [
    {
     "data": {
      "text/plain": [
       "torch.Size([5, 3, 1])"
      ]
     },
     "execution_count": 63,
     "metadata": {},
     "output_type": "execute_result"
    }
   ],
   "source": [
    "y_pred.shape"
   ]
  },
  {
   "cell_type": "code",
   "execution_count": 64,
   "metadata": {},
   "outputs": [
    {
     "data": {
      "text/plain": [
       "tensor([0.1671, 0.1617, 0.1720, 0.1729, 0.1615, 0.1586, 0.1681, 0.1787, 0.1595,\n",
       "        0.1603, 0.1658, 0.1660, 0.1495, 0.1633, 0.1681],\n",
       "       grad_fn=<ViewBackward>)"
      ]
     },
     "execution_count": 64,
     "metadata": {},
     "output_type": "execute_result"
    }
   ],
   "source": [
    "y_pred.view(len(y_pred),-1).view(-1)"
   ]
  },
  {
   "cell_type": "code",
   "execution_count": 65,
   "metadata": {},
   "outputs": [
    {
     "data": {
      "text/plain": [
       "tensor([[[0.1671],\n",
       "         [0.1617],\n",
       "         [0.1720]],\n",
       "\n",
       "        [[0.1729],\n",
       "         [0.1615],\n",
       "         [0.1586]],\n",
       "\n",
       "        [[0.1681],\n",
       "         [0.1787],\n",
       "         [0.1595]],\n",
       "\n",
       "        [[0.1603],\n",
       "         [0.1658],\n",
       "         [0.1660]],\n",
       "\n",
       "        [[0.1495],\n",
       "         [0.1633],\n",
       "         [0.1681]]])"
      ]
     },
     "execution_count": 65,
     "metadata": {},
     "output_type": "execute_result"
    }
   ],
   "source": [
    "y_pred.detach()[:,:,:]"
   ]
  },
  {
   "cell_type": "code",
   "execution_count": null,
   "metadata": {},
   "outputs": [],
   "source": []
  }
 ],
 "metadata": {
  "kernelspec": {
   "display_name": "Python 3",
   "language": "python",
   "name": "python3"
  },
  "language_info": {
   "codemirror_mode": {
    "name": "ipython",
    "version": 3
   },
   "file_extension": ".py",
   "mimetype": "text/x-python",
   "name": "python",
   "nbconvert_exporter": "python",
   "pygments_lexer": "ipython3",
   "version": "3.6.8"
  }
 },
 "nbformat": 4,
 "nbformat_minor": 2
}
