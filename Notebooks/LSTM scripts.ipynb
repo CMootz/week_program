{
 "cells": [
  {
   "cell_type": "code",
   "execution_count": 16,
   "metadata": {},
   "outputs": [],
   "source": [
    "import torch\n",
    "import matplotlib.pyplot as plt\n",
    "import pandas as pd\n",
    "\n",
    "import models\n",
    "import preprocessing as prep\n",
    "import train"
   ]
  },
  {
   "cell_type": "code",
   "execution_count": 17,
   "metadata": {},
   "outputs": [
    {
     "name": "stdout",
     "output_type": "stream",
     "text": [
      "The autoreload extension is already loaded. To reload it, use:\n",
      "  %reload_ext autoreload\n"
     ]
    }
   ],
   "source": [
    "%load_ext autoreload\n",
    "%autoreload 2"
   ]
  },
  {
   "cell_type": "code",
   "execution_count": 18,
   "metadata": {},
   "outputs": [],
   "source": [
    "dtype = torch.float\n",
    "device = torch.device(\"cpu\")"
   ]
  },
  {
   "cell_type": "code",
   "execution_count": 19,
   "metadata": {},
   "outputs": [],
   "source": [
    "batch_size = 143\n",
    "size_output =143"
   ]
  },
  {
   "cell_type": "code",
   "execution_count": 32,
   "metadata": {},
   "outputs": [
    {
     "name": "stdout",
     "output_type": "stream",
     "text": [
      "train:  ['2019-03-25', '2019-03-26', '2019-03-27', '2019-03-28', '2019-03-29', '2019-03-30', '2019-03-31', '2019-04-01', '2019-04-02', '2019-04-03'] val : ['2019-04-04'] test:  ['2019-04-05']\n",
      "(1311, 19) (143, 19) (143, 19)\n",
      "1287 143 143\n"
     ]
    }
   ],
   "source": [
    "X_train, X_val, _, y_train, y_val, _ = prep.load_lstm_data('../data/S_data_2019_04_25/', 'train sensorliving',batch_size, size_output)"
   ]
  },
  {
   "cell_type": "code",
   "execution_count": 33,
   "metadata": {},
   "outputs": [],
   "source": [
    "x = torch.from_numpy(X_train).to(device).type(dtype)"
   ]
  },
  {
   "cell_type": "code",
   "execution_count": 34,
   "metadata": {},
   "outputs": [
    {
     "data": {
      "text/plain": [
       "torch.Size([7, 143, 14])"
      ]
     },
     "execution_count": 34,
     "metadata": {},
     "output_type": "execute_result"
    }
   ],
   "source": [
    "x.shape"
   ]
  },
  {
   "cell_type": "code",
   "execution_count": 35,
   "metadata": {},
   "outputs": [
    {
     "data": {
      "text/plain": [
       "(143, 7, 14)"
      ]
     },
     "execution_count": 35,
     "metadata": {},
     "output_type": "execute_result"
    }
   ],
   "source": [
    "X_train.transpose(1,0,2).shape"
   ]
  },
  {
   "cell_type": "code",
   "execution_count": 36,
   "metadata": {},
   "outputs": [],
   "source": [
    "model = models.Lstm(X_train.shape[2], 512, batch_size, 'LSTM1', size_output, 2, dtype, device, False, 0.0)"
   ]
  },
  {
   "cell_type": "code",
   "execution_count": 37,
   "metadata": {},
   "outputs": [],
   "source": [
    "experiment_path = '../experiments/exp1/'"
   ]
  },
  {
   "cell_type": "code",
   "execution_count": 38,
   "metadata": {},
   "outputs": [],
   "source": [
    "training = train.TrainLstm(model, X_train, X_val, y_train, y_val, experiment_path)"
   ]
  },
  {
   "cell_type": "code",
   "execution_count": null,
   "metadata": {
    "scrolled": false
   },
   "outputs": [
    {
     "name": "stdout",
     "output_type": "stream",
     "text": [
      "Epoch  0  train_loss:  412.62237548828125 validate_loss:  349.3403015136719 Time  0.5295848846435547\n",
      "Epoch  10  train_loss:  5.625348091125488 validate_loss:  12.762473106384277 Time  6.187342166900635\n",
      "Epoch  20  train_loss:  16.817989349365234 validate_loss:  10.430583000183105 Time  9.188820123672485\n",
      "Epoch  30  train_loss:  2.700167655944824 validate_loss:  1.5087567567825317 Time  10.469731092453003\n",
      "Epoch  40  train_loss:  0.4647510051727295 validate_loss:  0.4941887855529785 Time  11.476696014404297\n",
      "Epoch  50  train_loss:  0.36409708857536316 validate_loss:  0.4828372001647949 Time  12.51277208328247\n",
      "Epoch  60  train_loss:  0.3917578160762787 validate_loss:  0.480357825756073 Time  12.260552167892456\n",
      "Epoch  70  train_loss:  0.40016838908195496 validate_loss:  0.3636479079723358 Time  11.805298328399658\n",
      "Epoch  80  train_loss:  0.9454261064529419 validate_loss:  0.5629357695579529 Time  12.208145141601562\n",
      "Epoch  90  train_loss:  0.34275001287460327 validate_loss:  0.3383719325065613 Time  10.803797006607056\n",
      "Epoch  100  train_loss:  0.36068129539489746 validate_loss:  0.3936346769332886 Time  10.997178077697754\n",
      "Epoch  110  train_loss:  0.5770272612571716 validate_loss:  0.5074071288108826 Time  10.190566778182983\n",
      "Epoch  120  train_loss:  0.39248523116111755 validate_loss:  0.3538167178630829 Time  9.915844917297363\n",
      "Epoch  130  train_loss:  0.35981810092926025 validate_loss:  0.3630716800689697 Time  9.335363149642944\n",
      "Epoch  140  train_loss:  0.49009665846824646 validate_loss:  0.5155712962150574 Time  9.897171020507812\n",
      "Epoch  150  train_loss:  0.4062468409538269 validate_loss:  0.36793890595436096 Time  10.072654247283936\n",
      "Epoch  160  train_loss:  0.40940868854522705 validate_loss:  0.3743138909339905 Time  10.465806007385254\n",
      "Epoch  170  train_loss:  0.6335292458534241 validate_loss:  0.571026086807251 Time  10.061025142669678\n",
      "Epoch  180  train_loss:  0.4709145426750183 validate_loss:  0.35663649439811707 Time  9.873978853225708\n",
      "Epoch  190  train_loss:  0.40484729409217834 validate_loss:  0.37828072905540466 Time  9.199087858200073\n",
      "Epoch  200  train_loss:  1.492679238319397 validate_loss:  0.906313419342041 Time  10.504923820495605\n",
      "Epoch  210  train_loss:  0.4719139337539673 validate_loss:  0.5721489191055298 Time  9.985214233398438\n",
      "Epoch  220  train_loss:  0.6975635290145874 validate_loss:  0.39211562275886536 Time  9.021988153457642\n",
      "Epoch  230  train_loss:  0.35152584314346313 validate_loss:  0.37947335839271545 Time  8.574715852737427\n"
     ]
    }
   ],
   "source": [
    "training.run_train(250)"
   ]
  },
  {
   "cell_type": "code",
   "execution_count": null,
   "metadata": {},
   "outputs": [],
   "source": [
    "loss = pd.read_csv(experiment_path+'errors__LSTM1__.csv')"
   ]
  },
  {
   "cell_type": "code",
   "execution_count": null,
   "metadata": {},
   "outputs": [],
   "source": [
    "loss_val = pd.read_csv(experiment_path+'errors_val__LSTM1__.csv')"
   ]
  },
  {
   "cell_type": "code",
   "execution_count": null,
   "metadata": {},
   "outputs": [],
   "source": [
    "plt.plot(loss[50:]);\n",
    "plt.plot(loss_val[50:]);"
   ]
  },
  {
   "cell_type": "code",
   "execution_count": null,
   "metadata": {},
   "outputs": [],
   "source": []
  },
  {
   "cell_type": "code",
   "execution_count": null,
   "metadata": {},
   "outputs": [],
   "source": []
  },
  {
   "cell_type": "code",
   "execution_count": null,
   "metadata": {},
   "outputs": [],
   "source": []
  },
  {
   "cell_type": "code",
   "execution_count": null,
   "metadata": {},
   "outputs": [],
   "source": []
  }
 ],
 "metadata": {
  "kernelspec": {
   "display_name": "Python 3",
   "language": "python",
   "name": "python3"
  },
  "language_info": {
   "codemirror_mode": {
    "name": "ipython",
    "version": 3
   },
   "file_extension": ".py",
   "mimetype": "text/x-python",
   "name": "python",
   "nbconvert_exporter": "python",
   "pygments_lexer": "ipython3",
   "version": "3.6.8"
  }
 },
 "nbformat": 4,
 "nbformat_minor": 2
}
